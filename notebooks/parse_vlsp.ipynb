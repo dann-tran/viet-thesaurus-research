{
 "cells": [
  {
   "cell_type": "code",
   "execution_count": 4,
   "metadata": {},
   "outputs": [],
   "source": [
    "import os\n",
    "import csv\n",
    "\n",
    "import sys\n",
    "sys.path.append(os.path.abspath(\"../\"))\n",
    "\n",
    "from source.parser import VlspParser"
   ]
  },
  {
   "cell_type": "code",
   "execution_count": 6,
   "metadata": {},
   "outputs": [],
   "source": [
    "input_dirpath = \"../data/VietMDR_VLSP_SP72/vcl_xml\"\n",
    "output_filepath = \"../data/VietMDR_VLSP_SP72/vlsp.csv\"\n",
    "\n",
    "vlsp_parser = VlspParser()\n",
    "\n",
    "entry_list = []\n",
    "\n",
    "for file in sorted(os.listdir(input_dirpath)):\n",
    "  if not file.endswith(\".xml\"):\n",
    "    continue\n",
    "\n",
    "  input_filepath = os.path.join(input_dirpath, file)\n",
    "\n",
    "  entries = vlsp_parser.parse(input_filepath)\n",
    "  entry_list.append(entries)\n",
    "\n",
    "with open(output_filepath, \"w\") as f:\n",
    "  writer = csv.writer(f, delimiter=\",\")\n",
    "  writer.writerow((\"headword\", \"pos\", \"definition\", \"synonyms\", \"antonyms\"))\n",
    "  for entries in entry_list:\n",
    "    for entry in entries:\n",
    "      writer.writerow(\n",
    "        (\n",
    "          entry.headword,\n",
    "          entry.pos,\n",
    "          entry.definition,\n",
    "          entry.synonyms or \"\",\n",
    "          entry.antonyms or \"\",\n",
    "        )\n",
    "      )"
   ]
  },
  {
   "cell_type": "code",
   "execution_count": null,
   "metadata": {},
   "outputs": [],
   "source": []
  }
 ],
 "metadata": {
  "kernelspec": {
   "display_name": "Python 3.9.15 ('viet-thesaurus-research')",
   "language": "python",
   "name": "python3"
  },
  "language_info": {
   "codemirror_mode": {
    "name": "ipython",
    "version": 3
   },
   "file_extension": ".py",
   "mimetype": "text/x-python",
   "name": "python",
   "nbconvert_exporter": "python",
   "pygments_lexer": "ipython3",
   "version": "3.9.15"
  },
  "orig_nbformat": 4,
  "vscode": {
   "interpreter": {
    "hash": "83e70a1c3778a093f9c6929f8ad54f63a4bef6d380c66a0b03b3d3d23ebad151"
   }
  }
 },
 "nbformat": 4,
 "nbformat_minor": 2
}
